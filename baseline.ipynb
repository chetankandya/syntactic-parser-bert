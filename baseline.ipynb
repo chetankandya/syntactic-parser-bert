{
  "nbformat": 4,
  "nbformat_minor": 0,
  "metadata": {
    "colab": {
      "name": "baseline.ipynb",
      "provenance": [],
      "collapsed_sections": []
    },
    "kernelspec": {
      "name": "python3",
      "display_name": "Python 3"
    },
    "language_info": {
      "name": "python"
    },
    "accelerator": "GPU"
  },
  "cells": [
    {
      "cell_type": "markdown",
      "source": [
        "# Prepare data"
      ],
      "metadata": {
        "id": "TyBIA4YBf0eR"
      }
    },
    {
      "cell_type": "code",
      "execution_count": null,
      "metadata": {
        "id": "9RjKQCv_NJeo",
        "colab": {
          "base_uri": "https://localhost:8080/"
        },
        "outputId": "a68eb2d1-d228-4d7a-8b5a-6fe1cf79ef50"
      },
      "outputs": [
        {
          "output_type": "stream",
          "name": "stdout",
          "text": [
            "Mounted at /content/drive\n",
            "/content/drive/.shortcut-targets-by-id/1NeFHUkpRXe8AvGwOOij0YjGFr79_V8SQ/TDDE09 Project/Code\n"
          ]
        }
      ],
      "source": [
        "from google.colab import drive\n",
        "drive.mount('/content/drive')\n",
        "\n",
        "# change this to the path in google drive where the files are located\n",
        "%cd /content/drive/MyDrive/TDDE09 Project/Code"
      ]
    },
    {
      "cell_type": "code",
      "source": [
        "# projectivize trees\n",
        "!python projectivize.py < en_ewt-ud-train.conllu > en_ewt-ud-train-projectivized.conllu\n",
        "!python projectivize.py < en_ewt-ud-dev.conllu > en_ewt-ud-dev-projectivized.conllu\n",
        "!python projectivize.py < en_ewt-ud-test.conllu > en_ewt-ud-test-projectivized.conllu"
      ],
      "metadata": {
        "id": "GkGy-dIXNZ1W"
      },
      "execution_count": null,
      "outputs": []
    },
    {
      "cell_type": "code",
      "source": [
        "class Dataset():\n",
        "\n",
        "    ROOT = ('<root>', '<root>', 0)\n",
        "\n",
        "    def __init__(self, filename):\n",
        "        self.filename = filename\n",
        "\n",
        "    def __iter__(self):\n",
        "        with open(self.filename, 'rt', encoding='utf-8') as lines:\n",
        "            tmp = [Dataset.ROOT]\n",
        "            for line in lines:\n",
        "                line = line.rstrip()\n",
        "                if line:\n",
        "                    columns = line.split('\\t')\n",
        "                    tmp.append((columns[1], columns[3], int(columns[6])))\n",
        "                else:\n",
        "                    yield tmp\n",
        "                    tmp = [Dataset.ROOT]"
      ],
      "metadata": {
        "id": "IrvlsVZWNhoF"
      },
      "execution_count": null,
      "outputs": []
    },
    {
      "cell_type": "code",
      "source": [
        "# read the data\n",
        "train_data = Dataset('en_ewt-ud-train-projectivized.conllu')\n",
        "dev_data = Dataset('en_ewt-ud-dev-projectivized.conllu')\n",
        "test_data = Dataset('en_ewt-ud-test-projectivized.conllu')"
      ],
      "metadata": {
        "id": "HBV3gwAJQYvf"
      },
      "execution_count": null,
      "outputs": []
    },
    {
      "cell_type": "markdown",
      "source": [
        "# Baseline system"
      ],
      "metadata": {
        "id": "7jiLWsPzfHUK"
      }
    },
    {
      "cell_type": "code",
      "source": [
        "import torch\n",
        "import torch.nn as nn\n",
        "import torch.nn.functional as F\n",
        "import torch.optim as optim\n",
        "from tqdm import tqdm"
      ],
      "metadata": {
        "id": "eoStTWaONblj"
      },
      "execution_count": null,
      "outputs": []
    },
    {
      "cell_type": "code",
      "source": [
        "device = torch.device('cuda' if torch.cuda.is_available() else 'cpu')"
      ],
      "metadata": {
        "id": "9gmOoMUsNgEN"
      },
      "execution_count": null,
      "outputs": []
    },
    {
      "cell_type": "code",
      "source": [
        "PAD = '<pad>'\n",
        "UNK = '<unk>'\n",
        "\n",
        "def make_vocabs(gold_data):\n",
        "    word_dict, tag_dict = {PAD: 0, UNK: 1}, {PAD: 0}\n",
        "    for sentence in gold_data:\n",
        "        for word, tag, head in sentence:\n",
        "            if word not in word_dict:\n",
        "                word_dict[word] = len(word_dict)\n",
        "            if tag not in tag_dict:\n",
        "                tag_dict[tag] = len(tag_dict)\n",
        "    return word_dict, tag_dict\n",
        "\n",
        "def exclude_root(vocab):\n",
        "    new_vocab = {}\n",
        "    for key, value in vocab.items():\n",
        "        if key != \"<root>\":\n",
        "          new_vocab[key] = len(new_vocab)\n",
        "    return new_vocab"
      ],
      "metadata": {
        "id": "DOfY03gJNhrc"
      },
      "execution_count": null,
      "outputs": []
    },
    {
      "cell_type": "code",
      "source": [
        "class ArcStandardParser():\n",
        "    \n",
        "    MOVES = tuple(range(3))\n",
        "    SH, LA, RA = MOVES\n",
        "\n",
        "    @staticmethod\n",
        "    def initial_config(num_words):\n",
        "        return (0, [], [0]*num_words)\n",
        "\n",
        "    @staticmethod\n",
        "    def valid_moves(config):\n",
        "        valid_moves = []\n",
        "        if config[0] < len(config[2]):\n",
        "            valid_moves.append(ArcStandardParser.SH)\n",
        "        if len(config[1]) >= 3:\n",
        "            valid_moves.append(ArcStandardParser.LA)\n",
        "        if len(config[1]) >= 2:\n",
        "            valid_moves.append(ArcStandardParser.RA)\n",
        "        return valid_moves\n",
        "\n",
        "    @staticmethod\n",
        "    def next_config(config, move):\n",
        "        new_config = [int(config[0]), list(config[1]), list(config[2])]\n",
        "        if move == ArcStandardParser.SH:\n",
        "            new_config[1].append(new_config[0])\n",
        "            new_config[0] += 1\n",
        "        elif move == ArcStandardParser.LA:\n",
        "            dependent = new_config[1].pop(-2)\n",
        "            new_config[2][dependent] = new_config[1][-1]\n",
        "        elif move == ArcStandardParser.RA:\n",
        "            dependent = new_config[1].pop(-1)\n",
        "            new_config[2][dependent] = new_config[1][-1]\n",
        "        return tuple(new_config) \n",
        "\n",
        "    @staticmethod\n",
        "    def is_final_config(config):\n",
        "        return (config[0] == len(config[2]) and len(config[1]) == 1)"
      ],
      "metadata": {
        "id": "-HRP50m_Nhuc"
      },
      "execution_count": null,
      "outputs": []
    },
    {
      "cell_type": "code",
      "source": [
        "def oracle_moves(gold_heads):\n",
        "    parser = ArcStandardParser()\n",
        "    config = parser.initial_config(len(gold_heads))\n",
        "    \n",
        "    while not parser.is_final_config(config):\n",
        "        valid_moves, move = parser.valid_moves(config), None\n",
        "\n",
        "        if (ArcStandardParser.LA in valid_moves and gold_heads[config[1][-2]] == config[1][-1] and\n",
        "            config[2].count(config[1][-2]) == gold_heads.count(config[1][-2])):\n",
        "            move = ArcStandardParser.LA\n",
        "\n",
        "        elif (ArcStandardParser.RA in valid_moves and gold_heads[config[1][-1]] == config[1][-2] and \n",
        "              config[2].count(config[1][-1]) == gold_heads.count(config[1][-1])):\n",
        "            move = ArcStandardParser.RA\n",
        "\n",
        "        elif ArcStandardParser.SH in valid_moves:\n",
        "            move = ArcStandardParser.SH\n",
        "        \n",
        "        yield (config, move)\n",
        "        config = parser.next_config(config, move)"
      ],
      "metadata": {
        "id": "PwL9hlq8Nhxd"
      },
      "execution_count": null,
      "outputs": []
    },
    {
      "cell_type": "code",
      "source": [
        "class FixedWindowModel(nn.Module):\n",
        "\n",
        "    def __init__(self, embedding_specs, hidden_dim, output_dim):\n",
        "        self.embedding_specs = embedding_specs\n",
        "        super(FixedWindowModel, self).__init__()\n",
        "        self.embeddings = nn.ModuleDict()\n",
        "        input_dim = 0\n",
        "        \n",
        "        for i, spec in enumerate(embedding_specs):\n",
        "            embedding = nn.Embedding(spec[1], spec[2])\n",
        "            nn.init.normal_(embedding.weight, mean=0.0, std=10**-2)\n",
        "            self.embeddings[\"emb\"+str(i)] = embedding\n",
        "            input_dim += spec[0]*embedding.weight.shape[1]\n",
        "\n",
        "        self.hidden = nn.Linear(input_dim, hidden_dim)\n",
        "        self.output = nn.Linear(hidden_dim, output_dim)\n",
        "\n",
        "    def forward(self, features, eval=False):\n",
        "        x = []      \n",
        "        col_indx = 0\n",
        "        for layer, spec in enumerate(self.embedding_specs):\n",
        "            for i in range(spec[0]):\n",
        "                try:\n",
        "                    current_col = features[:, col_indx:col_indx+1]\n",
        "                except:\n",
        "                    current_col = features[col_indx:col_indx+1]\n",
        "                col_indx += 1\n",
        "                embedding = self.embeddings[\"emb\"+str(layer)](current_col)\n",
        "                x.append(embedding)\n",
        "        x = torch.cat(x, dim=x[0].dim()-1).squeeze()\n",
        "        x = F.relu(self.hidden(x))\n",
        "        x = self.output(x)\n",
        "        return x if (x.dim() > 1 or eval) else x.unsqueeze(0)"
      ],
      "metadata": {
        "id": "OwmJEpCpNh0G"
      },
      "execution_count": null,
      "outputs": []
    },
    {
      "cell_type": "code",
      "source": [
        "class FixedWindowTagger():\n",
        "\n",
        "    def __init__(self, vocab_words, vocab_tags, output_dim, word_dim=50, tag_dim=10, hidden_dim=100):\n",
        "        self.embedding_specs = [(3, len(vocab_words), word_dim), (1, len(vocab_tags), tag_dim)]\n",
        "        self.model = FixedWindowModel(self.embedding_specs, hidden_dim, output_dim).to(device)\n",
        "        self.vocab_words = vocab_words\n",
        "        self.vocab_tags = vocab_tags\n",
        "\n",
        "    def featurize(self, words, i, pred_tags):\n",
        "        previous_tag = self.vocab_tags[PAD] if not pred_tags else pred_tags[-1]\n",
        "        previous_word = self.vocab_words[PAD] if i == 0 else words[i-1]\n",
        "        next_word = self.vocab_words[PAD] if i+1 >= len(words) else words[i+1]\n",
        "        return torch.LongTensor([previous_word, words[i], next_word, previous_tag])\n",
        "\n",
        "    def predict(self, words):\n",
        "        word_ids = [self.vocab_words.get(word, self.vocab_words[UNK]) for word in words]\n",
        "        predicted_tags_ids = []\n",
        "        for i, word_id in enumerate(word_ids):\n",
        "            feature = self.featurize(word_ids, i, predicted_tags_ids)\n",
        "            with torch.no_grad():\n",
        "                prediction = torch.argmax(self.model.forward(feature.to(device), eval=True))\n",
        "            predicted_tags_ids.append(prediction)\n",
        "        predicted_tags = [list(self.vocab_tags.keys())[tag_id] for tag_id in predicted_tags_ids]\n",
        "        return predicted_tags\n",
        "\n",
        "    def training_examples(self, gold_data, batch_size=100):\n",
        "        features, labels = [], []\n",
        "        for sentence in gold_data:\n",
        "            word_ids = [self.vocab_words[word] for word, tag, head in sentence]\n",
        "            tag_ids = [self.vocab_tags[tag] for word, tag, head in sentence]\n",
        "            for i in range(len(sentence)):\n",
        "                feature = self.featurize(word_ids, i, tag_ids[:i])\n",
        "                features.append(feature)\n",
        "                labels.append(tag_ids[i])\n",
        "                if len(features) == batch_size:\n",
        "                    yield torch.stack(features).to(device), torch.LongTensor(labels).to(device)\n",
        "                    features, labels = [], []\n",
        "        yield torch.stack(features).to(device), torch.LongTensor(labels).to(device)"
      ],
      "metadata": {
        "id": "x61Ua3SSNh2z"
      },
      "execution_count": null,
      "outputs": []
    },
    {
      "cell_type": "code",
      "source": [
        "class FixedWindowParser(ArcStandardParser):\n",
        "\n",
        "    def __init__(self, vocab_words, vocab_tags, word_dim=50, tag_dim=10, hidden_dim=180):\n",
        "        self.embedding_specs = [(3, len(vocab_words), word_dim), (3, len(vocab_tags), tag_dim)]\n",
        "        self.model = FixedWindowModel(self.embedding_specs, hidden_dim, len(FixedWindowParser.MOVES)).to(device)\n",
        "        self.vocab_words = vocab_words\n",
        "        self.vocab_tags = vocab_tags\n",
        "\n",
        "    def featurize(self, words, tags, config):\n",
        "        i, stack = config[0], config[1]\n",
        "        next_buffer_word = words[i] if len(words) > i else self.vocab_words[PAD]\n",
        "        top_word_stack = words[stack[-1]] if stack else self.vocab_words[PAD]\n",
        "        second_top_word_stack = words[stack[-2]] if len(stack) >= 2 else self.vocab_words[PAD]\n",
        "        next_buffer_tag = tags[i] if len(tags) > i else self.vocab_tags[PAD]\n",
        "        top_tag_stack = tags[stack[-1]] if stack else self.vocab_tags[PAD]\n",
        "        second_top_tag_stack = tags[stack[-2]] if len(stack) >= 2 else self.vocab_tags[PAD]\n",
        "        return torch.LongTensor([next_buffer_word, top_word_stack, second_top_word_stack, \n",
        "                                 next_buffer_tag, top_tag_stack, second_top_tag_stack])\n",
        "\n",
        "    def predict(self, words, tags):\n",
        "        word_ids = [self.vocab_words.get(word, self.vocab_words[UNK]) for word in words]\n",
        "        tag_ids = [self.vocab_tags[tag] for tag in tags]\n",
        "        config = self.initial_config(len(word_ids))\n",
        "        while not self.is_final_config(config):\n",
        "            feature = self.featurize(word_ids, tag_ids, config)\n",
        "            with torch.no_grad():\n",
        "                predictions = self.model.forward(feature.to(device), eval=True)\n",
        "            valid_moves = self.valid_moves(config)\n",
        "            move = valid_moves[torch.argmax(torch.tensor([pred for pred in predictions if (predictions == pred).nonzero(as_tuple=True)[0] in valid_moves])).item()]\n",
        "            config = self.next_config(config, move)\n",
        "        return config[2]\n",
        "\n",
        "    def training_examples(self, gold_data, batch_size=100):\n",
        "        features, labels = [], []\n",
        "        for sentence in gold_data:\n",
        "            word_ids = [self.vocab_words[word] for word, tag, head in sentence]\n",
        "            tag_ids = [self.vocab_tags[tag] for word, tag, head in sentence]\n",
        "            gold_heads = [head for word, tag, head in sentence]\n",
        "            for config, move in oracle_moves(gold_heads):\n",
        "                feature = self.featurize(word_ids, tag_ids, config)\n",
        "                features.append(feature)\n",
        "                labels.append(move)\n",
        "                if len(features) == batch_size:\n",
        "                    yield torch.stack(features).to(device), torch.LongTensor(labels).to(device)\n",
        "                    features, labels = [], []\n",
        "        yield torch.stack(features).to(device), torch.LongTensor(labels).to(device)"
      ],
      "metadata": {
        "id": "-1tvhce0Nh5E"
      },
      "execution_count": null,
      "outputs": []
    },
    {
      "cell_type": "code",
      "source": [
        "class TaggerParserPipeline():\n",
        "  \n",
        "  def __init__(self, vocab_words, vocab_tags):\n",
        "      # new vocabs without <root> for the tagger\n",
        "      vocab_words_no_root = exclude_root(vocab_words)\n",
        "      vocab_tags_no_root = exclude_root(vocab_tags)\n",
        "      self.tagger = FixedWindowTagger(vocab_words_no_root, vocab_tags_no_root, len(vocab_tags_no_root))\n",
        "      self.parser = FixedWindowParser(vocab_words, vocab_tags)\n",
        "\n",
        "  def predict(self, words):\n",
        "      \"\"\"Make predictions for tags and heads.\"\"\"\n",
        "      tag_preds = self.tagger.predict(words)\n",
        "      head_preds = self.parser.predict(['<root>']+words, ['<root>']+tag_preds)\n",
        "      return tag_preds, head_preds\n",
        "  \n",
        "  def train_fixed_window(self, train_data, n_epochs=2, batch_size=100, lr=1e-2, component=None): \n",
        "      \"\"\"Run training for a given component of the pipeline (either tagger or parser).\"\"\"   \n",
        "      optimizer = optim.Adam(component.model.parameters(), lr=lr)\n",
        "      info = {'epoch': 0, 'training loss': 0}\n",
        "      with tqdm(total=n_epochs) as pbar:\n",
        "          for t in range(n_epochs):\n",
        "              info['epoch'] = t + 1\n",
        "              component.model.train()\n",
        "              for bx, by in component.training_examples(train_data):\n",
        "                  optimizer.zero_grad()\n",
        "                  output = component.model.forward(bx)\n",
        "                  loss = F.cross_entropy(output, by)\n",
        "                  info['training loss'] = f'{loss:.4f}'\n",
        "                  pbar.set_postfix(info)\n",
        "                  pbar.update()\n",
        "                  loss.backward()\n",
        "                  optimizer.step()\n",
        "\n",
        "  def train(self, train_data):\n",
        "      \"\"\"Train the pipeline by first training the tagger, then \n",
        "         predicting tags on the training data which is used in training the parser.\"\"\"\n",
        "      self.train_fixed_window([sentence[1:] for sentence in train_data], component=self.tagger, n_epochs=2)\n",
        "      print(\"Predicting tags on training data...\")\n",
        "      for sentence in tqdm(train_data, total=len(list(train_data))):\n",
        "          tag_preds = self.tagger.predict([word for word, tag, head in sentence[1:]])\n",
        "          for i, word in enumerate(sentence[1:], 1):\n",
        "              sentence[i] = (word[0], tag_preds[i-1], word[2])\n",
        "      self.train_fixed_window(train_data, component=self.parser, n_epochs=1)\n",
        "\n",
        "  def evaluate(self, gold_data):\n",
        "      \"\"\"Evaluate the pipeline and print accuracy for the tagger and uas for the parser.\"\"\"\n",
        "      tagger_accuracy, uas, num_tokens = 0, 0, 0\n",
        "      for sentence in tqdm(gold_data, total=len(list(gold_data))):\n",
        "          gold_tokens, gold_tags, gold_heads = map(list, zip(*sentence[1:])) # ignores <root>\n",
        "          tag_preds, head_preds = self.predict(gold_tokens)\n",
        "          tagger_accuracy += sum([1 for pred, gold_tag in zip(tag_preds, gold_tags) if pred == gold_tag])\n",
        "          uas += sum([1 for pred, gold_head in zip(head_preds[1:], gold_heads) if pred == gold_head])\n",
        "          num_tokens += len(gold_tokens)\n",
        "      tagger_accuracy /= num_tokens\n",
        "      uas /= num_tokens\n",
        "      print(f\"\\nTagger accuracy: {tagger_accuracy:.4f} \\nParser uas: {uas:.4f}\")\n",
        "\n",
        "  def to_conllu(self, sentences):\n",
        "      \"Output a text file with parsed sentences in the conllu format.\"\n",
        "      with open(\"conllu_output.txt\", \"w\") as file:\n",
        "          file.write(f\"ID\\tFORM\\tLEMMA\\tUPOS\\tXPOS\\tFEATS\\tHEAD\\tDEPREL\\tDEPS\\tMISC\\n\\n\")\n",
        "          for sentence in sentences:\n",
        "              tag_preds, head_preds = self.predict(sentence)\n",
        "              for i in range(len(tag_preds)):\n",
        "                  file.write(f\"{i+1}\\t{sentence[i]}\\t_\\t{tag_preds[i]}\\t_\\t_\\t{head_preds[i]}\\t_\\t_\\t_\\n\")\n",
        "              file.write(\"\\n\")"
      ],
      "metadata": {
        "id": "3SAmRxzuNh7A"
      },
      "execution_count": null,
      "outputs": []
    },
    {
      "cell_type": "code",
      "source": [
        "# create the vocabularies and instantiate the pipeline\n",
        "vocab_words, vocab_tags =  make_vocabs(train_data)\n",
        "tpp = TaggerParserPipeline(vocab_words, vocab_tags)"
      ],
      "metadata": {
        "id": "TmC11eAwQadd"
      },
      "execution_count": null,
      "outputs": []
    },
    {
      "cell_type": "code",
      "source": [
        "# train the pipeline\n",
        "tpp.train(train_data)"
      ],
      "metadata": {
        "colab": {
          "base_uri": "https://localhost:8080/"
        },
        "id": "Tug9t9TiQdAd",
        "outputId": "7605c992-c246-4485-e73e-a9031b7d0856"
      },
      "execution_count": null,
      "outputs": [
        {
          "output_type": "stream",
          "name": "stderr",
          "text": [
            "4092it [02:04, 32.82it/s, epoch=2, training loss=0.0819]\n"
          ]
        },
        {
          "output_type": "stream",
          "name": "stdout",
          "text": [
            "Predicting tags on training data...\n"
          ]
        },
        {
          "output_type": "stream",
          "name": "stderr",
          "text": [
            "100%|██████████| 12543/12543 [02:19<00:00, 90.00it/s]\n",
            "4218it [02:04, 33.89it/s, epoch=1, training loss=0.0000]\n"
          ]
        }
      ]
    },
    {
      "cell_type": "code",
      "source": [
        "# evaluate the pipeline\n",
        "tpp.evaluate(dev_data)"
      ],
      "metadata": {
        "id": "7zyIM1PjQgxo",
        "colab": {
          "base_uri": "https://localhost:8080/"
        },
        "outputId": "fc1cf3b1-2a69-4a44-8546-1463870941ee"
      },
      "execution_count": null,
      "outputs": [
        {
          "output_type": "stream",
          "name": "stderr",
          "text": [
            "100%|██████████| 2001/2001 [01:09<00:00, 28.87it/s]"
          ]
        },
        {
          "output_type": "stream",
          "name": "stdout",
          "text": [
            "\n",
            "Tagger accuracy: 0.8944 \n",
            "Parser uas: 0.6612\n"
          ]
        },
        {
          "output_type": "stream",
          "name": "stderr",
          "text": [
            "\n"
          ]
        }
      ]
    },
    {
      "cell_type": "code",
      "source": [
        "# example of conllu output for the first 10 sentences in the test set (see text file)\n",
        "sentences = [[word for word, tag, head in sentence[1:]] for sentence in test_data]\n",
        "tpp.to_conllu(sentences[:10])"
      ],
      "metadata": {
        "id": "Npg2Rh_x51ei"
      },
      "execution_count": null,
      "outputs": []
    },
    {
      "cell_type": "markdown",
      "source": [
        "# BERT extention"
      ],
      "metadata": {
        "id": "1167mNAsqvzg"
      }
    },
    {
      "cell_type": "code",
      "source": [
        "!pip install transformers\n",
        "!pip install -q torch-scatter -f https://data.pyg.org/whl/torch-1.10.0+cu113.html\n",
        "!pip install datasets"
      ],
      "metadata": {
        "id": "BdY0zSUHzzlJ"
      },
      "execution_count": null,
      "outputs": []
    },
    {
      "cell_type": "code",
      "source": [
        "import torch\n",
        "from transformers import BertTokenizer, BertModel\n",
        "from operator import itemgetter\n",
        "from torch.utils.data import Dataset as torch_dataset\n",
        "import matplotlib.pyplot as plt\n",
        "from torch_scatter import scatter_mean\n",
        "import math\n",
        "import torch.nn as nn\n",
        "import torch.nn.functional as F\n",
        "from torch.nn import init\n",
        "import datasets\n",
        "from tqdm import tqdm"
      ],
      "metadata": {
        "id": "M5mTP051q0jJ"
      },
      "execution_count": null,
      "outputs": []
    },
    {
      "cell_type": "code",
      "source": [
        "device = torch.device('cuda') if torch.cuda.is_available() else torch.device('cpu')"
      ],
      "metadata": {
        "id": "yPXyyJZHvXcx"
      },
      "execution_count": null,
      "outputs": []
    },
    {
      "cell_type": "markdown",
      "source": [
        "##Parser dataset\n",
        "Extracts words and heads from the dataset and adds the words as a single string to an input dataset xs and the list of heads to output dataset ys"
      ],
      "metadata": {
        "id": "a9yiDn0w7eTZ"
      }
    },
    {
      "cell_type": "code",
      "source": [
        "def get_label_matrix(heads):\n",
        "    label = torch.zeros(99, 100)\n",
        "    for i, head in enumerate(heads):\n",
        "        label[i, head] = 1.0\n",
        "    return label"
      ],
      "metadata": {
        "id": "DDMuB4A75n8-"
      },
      "execution_count": null,
      "outputs": []
    },
    {
      "cell_type": "code",
      "source": [
        "class ParserDataset(torch_dataset):\n",
        "    def __init__(self, dataset, max_size=None):\n",
        "        #super.__init__()\n",
        "        self.xs = []\n",
        "        self.ys = []\n",
        "        self.max_sent_len = 0\n",
        "        self.lens = []\n",
        "        \n",
        "        for sentence in dataset:\n",
        "            if self.max_sent_len < len(sentence):\n",
        "                self.max_sent_len = len(sentence)\n",
        "            self.lens.append(len(sentence))\n",
        "            if max_size != None and len(self.xs) >= max_size:\n",
        "                break\n",
        "            words, tags, heads = zip(*sentence)\n",
        "            if len(heads) < 100:\n",
        "                self.xs.append(' '.join(words[1:])) #exclude root\n",
        "                self.ys.append(get_label_matrix(heads))\n",
        "            \n",
        "    def __getitem__(self, idx):\n",
        "        return self.xs[idx], self.ys[idx]\n",
        "\n",
        "    def __len__(self):\n",
        "        return len(self.xs)"
      ],
      "metadata": {
        "id": "AxMuyMTxqDcd"
      },
      "execution_count": null,
      "outputs": []
    },
    {
      "cell_type": "code",
      "source": [
        "train_dataset = ParserDataset(train_data, max_size=15000) # change max later\n",
        "dev_dataset = ParserDataset(dev_data, max_size=15000)\n",
        "plt.plot(dev_dataset.lens)\n",
        "plt.show()"
      ],
      "metadata": {
        "colab": {
          "base_uri": "https://localhost:8080/",
          "height": 265
        },
        "id": "WcBs1Son-t1x",
        "outputId": "46db2ab6-c3b5-4368-d01c-db77c295a7bf"
      },
      "execution_count": null,
      "outputs": [
        {
          "output_type": "display_data",
          "data": {
            "image/png": "[encoded data removed]",
            "text/plain": [
              "<Figure size 432x288 with 1 Axes>"
            ]
          },
          "metadata": {
            "needs_background": "light"
          }
        }
      ]
    },
    {
      "cell_type": "markdown",
      "source": [
        "##Get subwords indicies\n",
        "Output from the bert model contains split words that are unknown the model, this method gets ranges of indicies where the subswords start and end"
      ],
      "metadata": {
        "id": "mfap_OId7RPL"
      }
    },
    {
      "cell_type": "code",
      "source": [
        "def get_word_level_indicies(tok_sentence):\n",
        "    indices = []\n",
        "    subword_start, pad = 0, 0\n",
        "    for i in range(len(tok_sentence)):\n",
        "        if tok_sentence[i].startswith(\"##\") and not tok_sentence[i-1].startswith(\"##\"):\n",
        "            start = i-pad-1\n",
        "            pad += 1\n",
        "            indices.append(start)\n",
        "        elif(tok_sentence[i].startswith(\"##\") and tok_sentence[i-1].startswith(\"##\")):\n",
        "            pad += 1\n",
        "            indices.append(start)\n",
        "        else:\n",
        "            indices.append(i-pad)\n",
        "    return indices"
      ],
      "metadata": {
        "id": "swUUkVk49KV4"
      },
      "execution_count": null,
      "outputs": []
    },
    {
      "cell_type": "code",
      "source": [
        "# example usage\n",
        "tokens = ['oscar', 'is', 'always', 'late', 'ka', '##ffe', '##ts', '.', \"hi\", \"my\", \"##name\", \"##rlfknlkrnelfkner\", \"jk\"]\n",
        "print(get_word_level_indicies(tokens))"
      ],
      "metadata": {
        "id": "QIWi8IkymC79"
      },
      "execution_count": null,
      "outputs": []
    },
    {
      "cell_type": "markdown",
      "source": [
        "##Batchifyer\n",
        "Tokenizes the batches and converts them to tensors"
      ],
      "metadata": {
        "id": "vqzDHutV7D7q"
      }
    },
    {
      "cell_type": "code",
      "source": [
        "class BertBatcher():\n",
        "    def __init__(self, device):\n",
        "        self.device = device\n",
        "        self.tokenizer = BertTokenizer.from_pretrained('bert-base-uncased')\n",
        "\n",
        "    def __call__(self, batch):\n",
        "        \n",
        "        labels = [label for sentence, label in batch]\n",
        "        sentences = [sentence for sentence, label in batch]\n",
        "\n",
        "        word_level_indicies = []\n",
        "        for sentence in sentences:\n",
        "            sent_tokens = self.tokenizer.tokenize(sentence)\n",
        "            sent_tokens = [\"[CLS]\"] + sent_tokens + [\"[SEP]\"] if len(sent_tokens) < 98 else [\"[CLS]\"] + sent_tokens[:98] + [\"[SEP]\"] # 98 = max length -2\n",
        "            sent_tokens_padded = sent_tokens + ([\"[PAD]\"] * (100 - len(sent_tokens))) if len(sent_tokens) < 100 else sent_tokens\n",
        "            word_level_indicies.append(get_word_level_indicies(sent_tokens_padded))\n",
        "\n",
        "        processed_sentence = self.tokenizer(sentences, padding=\"max_length\", return_tensors=\"pt\", max_length=100, truncation=True) #encode_plus sentence\n",
        "        input_ids, attention_mask = itemgetter(\"input_ids\", \"attention_mask\")(processed_sentence)\n",
        "\n",
        "        return (input_ids.to(self.device), \n",
        "                attention_mask.to(self.device), \n",
        "                torch.stack(labels).to(self.device), \n",
        "                torch.tensor(word_level_indicies).to((self.device)))"
      ],
      "metadata": {
        "id": "AF4JqGBbivPF"
      },
      "execution_count": null,
      "outputs": []
    },
    {
      "cell_type": "code",
      "source": [
        "train_dataset = ParserDataset(train_data, max_size=10)\n",
        "dev_dataset = ParserDataset(dev_data)\n",
        "\n",
        "# test batcher and dataloader\n",
        "bert_batcher = BertBatcher(device)\n",
        "train_dataloader = torch.utils.data.DataLoader(train_dataset, batch_size=32, collate_fn = bert_batcher)\n",
        "test_dataloader = torch.utils.data.DataLoader(dev_dataset, batch_size=32, collate_fn = bert_batcher)\n",
        "\n",
        "for i in train_dataloader:\n",
        "    input_ids, attention_mask, labels, word_level_indicies = i\n",
        "    break"
      ],
      "metadata": {
        "id": "hvGx2q9HiaUS"
      },
      "execution_count": null,
      "outputs": []
    },
    {
      "cell_type": "markdown",
      "source": [
        "##Customized BERT model\n",
        "Added linear layers on top of the bert model to specilize it"
      ],
      "metadata": {
        "id": "uFJ64JE967Ky"
      }
    },
    {
      "cell_type": "code",
      "source": [
        "class CustomBERTModel(nn.Module):\n",
        "    def __init__(self):\n",
        "        super(CustomBERTModel, self).__init__()\n",
        "        self.model = BertModel.from_pretrained(\"bert-base-uncased\").to(device) ## move .to(device) outside class?\n",
        "        self.weight = nn.Parameter(torch.empty(768, 768)).to(device)\n",
        "        self.bias = nn.Parameter(torch.empty(100)).to(device)\n",
        "        self.reset_parameters()\n",
        "\n",
        "    def reset_parameters(self):\n",
        "        bound = 1 / math.sqrt(self.weight.size(1))\n",
        "        nn.init.uniform_(self.weight, -bound, bound)\n",
        "        nn.init.uniform_(self.bias, -bound, bound)\n",
        "    \n",
        "    def forward(self, input_ids, attention_mask, word_level_indicies):\n",
        "\n",
        "        model_out  = self.model(input_ids=input_ids, attention_mask=attention_mask)\n",
        "        last_hidden_state = model_out[0]\n",
        "\n",
        "        # apply word-level pooling\n",
        "        pooled_last_hidden = scatter_mean(last_hidden_state, word_level_indicies, dim=1, dim_size=100)\n",
        "\n",
        "        X = pooled_last_hidden[:, 1:pooled_last_hidden.shape[1], :]\n",
        "        X_prime = pooled_last_hidden[ :, :pooled_last_hidden.shape[1], :]\n",
        "        \n",
        "        Y_arc = ((X @ self.weight) @ torch.transpose(X_prime, 1, -1)) + self.bias\n",
        "\n",
        "        return Y_arc"
      ],
      "metadata": {
        "id": "bbQWBvalr4ob"
      },
      "execution_count": null,
      "outputs": []
    },
    {
      "cell_type": "code",
      "source": [
        "# test forward method\n",
        "m = CustomBERTModel()\n",
        "l = m.forward(input_ids, attention_mask, word_level_indicies).shape"
      ],
      "metadata": {
        "id": "MOnVbh5dGYIg"
      },
      "execution_count": null,
      "outputs": []
    },
    {
      "cell_type": "markdown",
      "source": [
        "##Training Loop\n",
        "Trains the customized bert model"
      ],
      "metadata": {
        "id": "6wQayrj06qMS"
      }
    },
    {
      "cell_type": "code",
      "source": [
        "def train(n_epochs=3, batch_size=16, lr=1e-5):\n",
        "   \n",
        "    train_dataset = ParserDataset(train_data, max_size=15000)\n",
        "    dev_dataset = ParserDataset(dev_data, max_size=10000)\n",
        "\n",
        "    bert_batcher = BertBatcher(device)\n",
        "    train_loader = torch.utils.data.DataLoader(train_dataset, batch_size, collate_fn = bert_batcher)\n",
        "    dev_loader = torch.utils.data.DataLoader(dev_dataset, batch_size, collate_fn = bert_batcher)\n",
        "\n",
        "    custom_bert = CustomBERTModel()\n",
        "    custom_bert.train()\n",
        "    optimizer = torch.optim.AdamW(custom_bert.parameters(), lr = lr)\n",
        "\n",
        "    # Make it possible to interrupt the training\n",
        "    try:\n",
        "        for epoch in range(n_epochs):\n",
        "            with tqdm(total = len(train_loader)) as pbar:\n",
        "                custom_bert.train()\n",
        "                for input_ids, attention_mask, labels, word_level_indicies in train_loader:\n",
        "\n",
        "                    optimizer.zero_grad()\n",
        "                    output = custom_bert.forward(input_ids, attention_mask, word_level_indicies) \n",
        "                    \n",
        "                    pad_indicies = torch.argmin(attention_mask, 1, keepdim=True)\n",
        "                    weights = torch.zeros_like(output).to(device)\n",
        "                    for i, row in enumerate(weights):\n",
        "                        row[:pad_indicies[i][0], :pad_indicies[i][0]+1] = 1\n",
        "                    \n",
        "                    bce_loss = nn.BCEWithLogitsLoss(weight=weights)\n",
        "                    loss = bce_loss(output, labels)\n",
        "\n",
        "                    loss.backward(retain_graph=True)\n",
        "                    optimizer.step()\n",
        "\n",
        "                    pbar.set_postfix(loss = loss.item())\n",
        "                    pbar.update(1)\n",
        "                \n",
        "                custom_bert.eval()\n",
        "\n",
        "                accuracy, num_heads = 0, 0\n",
        "                for input_ids, attention_mask, labels, word_level_indicies in dev_loader:\n",
        "\n",
        "                    pad_indicies = torch.argmin(attention_mask, 1, keepdim=True)\n",
        "\n",
        "                    with torch.no_grad():\n",
        "                        output = custom_bert.forward(input_ids, attention_mask, word_level_indicies)\n",
        "\n",
        "                    for i, sentence in enumerate(output):\n",
        "\n",
        "                        predictions = torch.argmax(output[i], dim=1)\n",
        "                        ys = torch.argmax(labels[i], dim=1)\n",
        "\n",
        "                        predictions = predictions[1:pad_indicies[i][0].item()-1]\n",
        "                        ys = ys[1:pad_indicies[i][0].item()-1]\n",
        "\n",
        "                        accuracy += torch.sum(predictions == ys).item()\n",
        "                        num_heads += predictions.shape[0]\n",
        "\n",
        "                print(\"\\nAccuracy\",  accuracy/num_heads)\n",
        "                        \n",
        "    except KeyboardInterrupt:\n",
        "        pass\n",
        "\n",
        "    return custom_bert.model"
      ],
      "metadata": {
        "id": "Snobob-3p2Hb"
      },
      "execution_count": null,
      "outputs": []
    },
    {
      "cell_type": "code",
      "source": [
        "model = train(n_epochs=5, batch_size=32, lr=1e-5)"
      ],
      "metadata": {
        "id": "8ClXQ5QTfMRX",
        "colab": {
          "base_uri": "https://localhost:8080/"
        },
        "outputId": "47c313b6-1886-4372-ebbc-6821e230d6dd"
      },
      "execution_count": null,
      "outputs": [
        {
          "output_type": "stream",
          "name": "stderr",
          "text": [
            "Some weights of the model checkpoint at bert-base-uncased were not used when initializing BertModel: ['cls.predictions.bias', 'cls.seq_relationship.bias', 'cls.predictions.transform.dense.weight', 'cls.predictions.transform.dense.bias', 'cls.predictions.decoder.weight', 'cls.predictions.transform.LayerNorm.weight', 'cls.predictions.transform.LayerNorm.bias', 'cls.seq_relationship.weight']\n",
            "- This IS expected if you are initializing BertModel from the checkpoint of a model trained on another task or with another architecture (e.g. initializing a BertForSequenceClassification model from a BertForPreTraining model).\n",
            "- This IS NOT expected if you are initializing BertModel from the checkpoint of a model that you expect to be exactly identical (initializing a BertForSequenceClassification model from a BertForSequenceClassification model).\n",
            "100%|██████████| 392/392 [09:21<00:00,  1.43s/it, loss=0.00937]\n"
          ]
        },
        {
          "output_type": "stream",
          "name": "stdout",
          "text": [
            "\n",
            "Accuracy 0.10842329734772757\n"
          ]
        },
        {
          "output_type": "stream",
          "name": "stderr",
          "text": [
            "100%|██████████| 392/392 [09:21<00:00,  1.43s/it, loss=0.00863]\n"
          ]
        },
        {
          "output_type": "stream",
          "name": "stdout",
          "text": [
            "\n",
            "Accuracy 0.1451752632280421\n"
          ]
        },
        {
          "output_type": "stream",
          "name": "stderr",
          "text": [
            "100%|██████████| 392/392 [09:20<00:00,  1.43s/it, loss=0.00785]\n"
          ]
        },
        {
          "output_type": "stream",
          "name": "stdout",
          "text": [
            "\n",
            "Accuracy 0.18929095028655205\n"
          ]
        },
        {
          "output_type": "stream",
          "name": "stderr",
          "text": [
            "100%|██████████| 392/392 [09:20<00:00,  1.43s/it, loss=0.00671]\n"
          ]
        },
        {
          "output_type": "stream",
          "name": "stdout",
          "text": [
            "\n",
            "Accuracy 0.2782220445155271\n"
          ]
        },
        {
          "output_type": "stream",
          "name": "stderr",
          "text": [
            "100%|██████████| 392/392 [09:21<00:00,  1.43s/it, loss=0.0057]"
          ]
        },
        {
          "output_type": "stream",
          "name": "stdout",
          "text": [
            "\n",
            "Accuracy 0.36768625882980144\n"
          ]
        },
        {
          "output_type": "stream",
          "name": "stderr",
          "text": [
            "\n"
          ]
        }
      ]
    },
    {
      "cell_type": "code",
      "source": [
        "!ln -sf /opt/bin/nvidia-smi /usr/bin/nvidia-smi\n",
        "!pip install gputil\n",
        "!pip install psutil\n",
        "!pip install humanize\n",
        "import psutil\n",
        "import humanize\n",
        "import os\n",
        "import GPUtil as GPU"
      ],
      "metadata": {
        "id": "WlS2JNO3MEyz"
      },
      "execution_count": null,
      "outputs": []
    },
    {
      "cell_type": "code",
      "source": [
        "# check gpu ram \n",
        "GPUs = GPU.getGPUs()\n",
        "# XXX: only one GPU on Colab and isn’t guaranteed\n",
        "gpu = GPUs[0]\n",
        "def printm():\n",
        "  print(gpu.name)\n",
        "  process = psutil.Process(os.getpid())\n",
        "  print(\"Gen RAM Free: \" + humanize.naturalsize( psutil.virtual_memory().available ), \" | Proc size: \" + humanize.naturalsize( process.memory_info().rss))\n",
        "  print(\"GPU RAM Free: {0:.0f}MB | Used: {1:.0f}MB | Util {2:3.0f}% | Total {3:.0f}MB\".format(gpu.memoryFree, gpu.memoryUsed, gpu.memoryUtil*100, gpu.memoryTotal))\n",
        "printm()"
      ],
      "metadata": {
        "colab": {
          "base_uri": "https://localhost:8080/"
        },
        "id": "jT3g-q8EMGkw",
        "outputId": "dd340afe-8adf-4e14-aee4-1779bb91251d"
      },
      "execution_count": null,
      "outputs": [
        {
          "output_type": "stream",
          "name": "stdout",
          "text": [
            "Tesla P100-PCIE-16GB\n",
            "Gen RAM Free: 12.5 GB  | Proc size: 95.2 MB\n",
            "GPU RAM Free: 16280MB | Used: 0MB | Util   0% | Total 16280MB\n"
          ]
        }
      ]
    },
    {
      "cell_type": "markdown",
      "source": [
        "##Evaluation\n",
        "Evaluates the trained model"
      ],
      "metadata": {
        "id": "4HnsKRUa6wWQ"
      }
    },
    {
      "cell_type": "code",
      "source": [
        "def evaluate(model):\n",
        "    metric = datasets.load_metric(\"accuracy\")\n",
        "    model.eval()\n",
        "\n",
        "    for input_ids, attention_mask, labels in tqdm(test_dataloader, total=len(test_dataloader)):\n",
        "        \n",
        "        with torch.no_grad():\n",
        "            outputs = model(input_ids=input_ids, attention_mask=attention_mask, labels=labels)\n",
        "\n",
        "        logits = outputs.logits\n",
        "        predictions = torch.argmax(logits, dim=-1)\n",
        "        metric.add_batch(predictions=predictions, references=labels)\n",
        "\n",
        "    return metric.compute()"
      ],
      "metadata": {
        "id": "Juu1cZDRp2Ke"
      },
      "execution_count": null,
      "outputs": []
    }
  ]
}